{
 "cells": [
  {
   "cell_type": "markdown",
   "metadata": {},
   "source": [
    "# Create a simple solar system model"
   ]
  },
  {
   "cell_type": "code",
   "execution_count": 1,
   "metadata": {},
   "outputs": [],
   "source": [
    "%matplotlib inline\n",
    "import matplotlib.pyplot as plt\n",
    "import numpy as np\n",
    "from collections import namedtuple"
   ]
  },
  {
   "cell_type": "markdown",
   "metadata": {},
   "source": [
    "# Define a planet class"
   ]
  },
  {
   "cell_type": "code",
   "execution_count": 3,
   "metadata": {},
   "outputs": [],
   "source": [
    "class planet():\n",
    "    \"A planet in our solar system\"\n",
    "    def __init__(self,semimajor,eccentricity):\n",
    "        self.x      = np.array(2)   # x and y position\n",
    "        self.v      = np.array(2)   # x and y velocity\n",
    "        self.a_g    = np.array(2)   # x and y acceleration\n",
    "        self.t      = 0.0           # current time\n",
    "        self.dt     = 0.0           # current timestep\n",
    "        self.a      = semimajor     # semimajor axis of the orbit\n",
    "        self.e      = eccentricity  # eccentricity of the orbit\n",
    "        self.istep  = 0             # current integer timestep\n",
    "        self.name   = \"\""
   ]
  },
  {
   "cell_type": "markdown",
   "metadata": {},
   "source": [
    "# Define a dictionary with some constants"
   ]
  },
  {
   "cell_type": "code",
   "execution_count": 4,
   "metadata": {},
   "outputs": [],
   "source": [
    "solar_system = { \"M_sun\":1.0, \"G\": 39.4784176043574320}"
   ]
  },
  {
   "cell_type": "markdown",
   "metadata": {},
   "source": [
    "# Define some functions for setting circular velocity, and acceleration"
   ]
  },
  {
   "cell_type": "code",
   "execution_count": 5,
   "metadata": {},
   "outputs": [],
   "source": [
    "def solar_circular_velocity(p,solar_system):\n",
    "    \n",
    "    G = solar_system[\"G\"]\n",
    "    M = solar_system[\"M_sun\"]\n",
    "    r = ( p.x[0]**2 + p.x[1]**2 )**0.5\n",
    "    \n",
    "    # return the circular velocity\n",
    "    return (G*M/r)**0.5"
   ]
  },
  {
   "cell_type": "code",
   "execution_count": 6,
   "metadata": {},
   "outputs": [],
   "source": [
    "def solar_gravitational_acceleration(p, solar_system):\n",
    "    \n",
    "    G = solar_system[\"G\"]\n",
    "    M = solar_system[\"M_sun\"]\n",
    "    r = ( p.x[0]**2 + p.x[1]**2 )**0.5\n",
    "    \n",
    "    # acceleration in AU/yr/yr\n",
    "    a_grav = -1.0*G*M/r**2\n",
    "    \n",
    "    # find the angle at this position\n",
    "    if(p.x[0]==0.0):\n",
    "        if(p.x[1]>0.0):\n",
    "            theta = 0.5*np.pi\n",
    "        else:\n",
    "            theta = 1.5*np.pi\n",
    "    else:\n",
    "        theta = np.ataon(p.x[1],p.x[0])\n",
    "    \n",
    "    # set the x and y components of the velocity\n",
    "    p.a_g[0] = a_grav * np.cos(theta)\n",
    "    p.a_g[1] = a_grav * np.sin(theta)"
   ]
  },
  {
   "cell_type": "markdown",
   "metadata": {},
   "source": [
    "# Compute the timestep"
   ]
  },
  {
   "cell_type": "code",
   "execution_count": 7,
   "metadata": {},
   "outputs": [],
   "source": [
    "def calc_dt(p):\n",
    "    \n",
    "    # integration tolerance\n",
    "    ETA_TIME_STEP = 0.0004\n",
    "    \n",
    "    # compute timestep\n",
    "    eta = ETA_TIME_STEP\n",
    "    v = (p.v[0]**2 + p.v[1]**2)**0.5\n",
    "    a = (p.a_g[0]**2 + p.a_g[1]**2)**0.5\n",
    "    dt = eta * np.fmin(1./np.fabs(v),1./np.fabs(a)**0.5)\n",
    "    \n",
    "    return dt"
   ]
  },
  {
   "cell_type": "markdown",
   "metadata": {},
   "source": [
    "# Define the initial conditions"
   ]
  },
  {
   "cell_type": "code",
   "execution_count": 8,
   "metadata": {},
   "outputs": [],
   "source": [
    "def SetPlanet(p, i):\n",
    "    \n",
    "    AU_in_km = 1.495979e+8     # an astronomical unit in kilometers\n",
    "    \n",
    "    # circular velocity\n",
    "    v_c = 0.0        # circular velocity in AU/yr\n",
    "    v_e = 0.0        # velocity at perihelion in AU/yr\n",
    "    \n",
    "    \n",
    "    # planet-by-planet intial conditions\n",
    "    \n",
    "    # Mercury\n",
    "    if(i==0):\n",
    "        # semi-major axis in AU\n",
    "        p.a = 57909227.0 / AU_in_km\n",
    "        \n",
    "        # eccentricity\n",
    "        p.e = 0.20563593\n",
    "        \n",
    "        \n",
    "    # Venus\n",
    "    elif(i==1):\n",
    "        # semi-major axis in AU\n",
    "        p.a = 108209475.0 / AU_in_km\n",
    "        \n",
    "        # eccentricity\n",
    "        p.e = 0.00677672\n",
    "\n",
    "    \n",
    "    # Earth\n",
    "    elif(i==2):\n",
    "        # semi-major axis in AU\n",
    "        p.a = 1.0\n",
    "        \n",
    "        # eccentricity\n",
    "        p.e = 0.01671123\n",
    "\n",
    "    \n",
    "    \n",
    "    # set remaining properties\n",
    "    p.t = 0.0\n",
    "    p.x[0] = p.a*(1.0-p.e)\n",
    "    p.x[1] = 0.0\n",
    "    \n",
    "    # get equivalent circular velocity\n",
    "    v_c = solar_circular_velocity(p)\n",
    "    \n",
    "    # velocity at perihelion\n",
    "    v_e = v_c*(1+p.e)**0.5\n",
    "    \n",
    "    # set velocity\n",
    "    p.v[0] = 0.0       # no x velocity at perihelion\n",
    "    p.v[1] = v_e       # y velocity at perihelion (counter clockwise)\n",
    "    \n",
    "    # calculate gravitational acceleration from Sun\n",
    "    solar_gravitational_acceleration(p)\n",
    "    \n",
    "    # set timestamp\n",
    "    p.dt = calc_dt(p)"
   ]
  },
  {
   "cell_type": "markdown",
   "metadata": {},
   "source": [
    "# Define leapfrog integrator"
   ]
  },
  {
   "cell_type": "code",
   "execution_count": 9,
   "metadata": {},
   "outputs": [],
   "source": [
    "def x_first_step(x_i, v_i, a_i, dt):\n",
    "    # x_1/2 = x_0  +  1/2 v_0 Delta_t  +  1/4 a_0 Delta_t^2\n",
    "    return x_i + 0.5*v_i*dt + 0.25*a_i*dt**2"
   ]
  },
  {
   "cell_type": "code",
   "execution_count": 10,
   "metadata": {},
   "outputs": [],
   "source": [
    "def v_full_step(x_i, v_i, a_ipoh, dt):\n",
    "    # v_i+1 = v_i  +  a_i+1/2 Delta_t\n",
    "    return v_i + a_ipoh*dt"
   ]
  },
  {
   "cell_type": "code",
   "execution_count": 11,
   "metadata": {},
   "outputs": [],
   "source": [
    "def x_full_step(x_ipoh, v_ip1, a_ipoh, dt):\n",
    "    # x_3/2  =  x_1/2  +  v_i+1 Delta_t\n",
    "    return x_ipoh + v_ip1*dt"
   ]
  },
  {
   "cell_type": "markdown",
   "metadata": {},
   "source": [
    "# Define a function to save the data to file"
   ]
  },
  {
   "cell_type": "code",
   "execution_count": 12,
   "metadata": {},
   "outputs": [],
   "source": [
    "def SaveSolarSystem(p, n_planets, t , dt, istep, ndim):\n",
    "    \n",
    "    # loop over the number of planets\n",
    "    for i in range(n_planents):\n",
    "        \n",
    "        # define a filename\n",
    "        fname = \"planet.%s.txt\" % p[i].name\n",
    "        \n",
    "        if(istep==0):\n",
    "            # create the file on first timestep\n",
    "            fp = open(fname,\"w\")\n",
    "        else:\n",
    "            # append the file on subsequent timesteps\n",
    "            fp = open(fname,\"a\")\n",
    "        \n",
    "        # compute the drifted properties of the planet\n",
    "        v_drift = np.zeros(ndim)\n",
    "        \n",
    "        for k in range(ndim):\n",
    "            v_drift[k] = p[i].v[k] + 0.5*p[i].a_g[k]*p[i].dt\n",
    "            \n",
    "        # write the data to file\n",
    "        s = \"%6d\\t%6.5f\\t%6.5f\\t%6d\\t%6.5f\\t%6.5f\\t% 6.5f\\t% 6.5f\\t% 6.5f\\t% 6.5f\\t% 6.5f\\t% 6.5f\\n\" % \\\n",
    "        (istep,t,dt,p[i].istep,p[i].t,p[i].dt,p[i].x[0],p[i].x[1],v_drift[0],v_drift[1],p[i].a_g[0],p[i].a_g[1])\n",
    "        \n",
    "        fp.write(s)\n",
    "        \n",
    "        # close the file\n",
    "        fp.close()"
   ]
  },
  {
   "cell_type": "markdown",
   "metadata": {},
   "source": [
    "# Write function to evolve the solar system"
   ]
  },
  {
   "cell_type": "code",
   "execution_count": null,
   "metadata": {},
   "outputs": [],
   "source": [
    "def EvolveSolarSystem(p, n_planets, t_max):\n",
    "    \n",
    "    # set number of spatial dimensions\n",
    "    ndim = 2\n",
    "    \n",
    "    # define the first timestep\n",
    "    dt = 0.5/365.25\n",
    "    \n",
    "    # define the start time\n",
    "    t = 0.0\n",
    "    \n",
    "    # define the start timestep\n",
    "    istep = 0\n",
    "    \n",
    "    # save the initial conditions\n",
    "    SaveSolarSystem(p,n_planets, t, dt, istep, ndim)\n",
    "    \n",
    "    # begin a loop over the global timestep\n",
    "    while(t<t_max):\n",
    "        \n",
    "        # check to see if the next step exceeds the max time, if so take smaller step\n",
    "        if(t+dt>t_max):\n",
    "            dt = t_max - t      # limit to t_max\n",
    "        \n",
    "        # evolve each planet\n",
    "        for i in range(n_planets):\n",
    "            \n",
    "            "
   ]
  }
 ],
 "metadata": {
  "kernelspec": {
   "display_name": "Python 3",
   "language": "python",
   "name": "python3"
  },
  "language_info": {
   "codemirror_mode": {
    "name": "ipython",
    "version": 3
   },
   "file_extension": ".py",
   "mimetype": "text/x-python",
   "name": "python",
   "nbconvert_exporter": "python",
   "pygments_lexer": "ipython3",
   "version": "3.8.6"
  }
 },
 "nbformat": 4,
 "nbformat_minor": 4
}
